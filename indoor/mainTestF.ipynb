{
 "cells": [
  {
   "cell_type": "code",
   "execution_count": null,
   "id": "c7f1977e",
   "metadata": {},
   "outputs": [],
   "source": [
    "import inputTxGetAll\n",
    "\n",
    "x =200\n",
    "y = 500\n",
    "iT = inputTxGetAll.inputTxGetAllPrediction(x,y)\n",
    "iT.prediction()"
   ]
  },
  {
   "cell_type": "code",
   "execution_count": null,
   "id": "cbe65b8a",
   "metadata": {},
   "outputs": [],
   "source": [
    "import inputTxGetAll\n",
    "\n",
    "x =200\n",
    "y = 500\n",
    "save_directory = \"resultImage/\"\n",
    "iT = inputTxGetAll.inputTxGetAllPrediction(x,y,save_directory)\n",
    "iT.prediction()"
   ]
  },
  {
   "cell_type": "code",
   "execution_count": null,
   "id": "5b482d01",
   "metadata": {},
   "outputs": [],
   "source": [
    "import inputTxGetAll\n",
    "\n",
    "x =200\n",
    "y = 500\n",
    "save_directory = \"resultImage/\"\n",
    "iT = inputTxGetAll.inputTxGetAllPrediction(x,y,save_directory)\n",
    "iT.prediction()"
   ]
  },
  {
   "cell_type": "code",
   "execution_count": null,
   "id": "02485c3d",
   "metadata": {},
   "outputs": [],
   "source": [
    "import inputTxGetAll\n",
    "\n",
    "x =200\n",
    "y = 500\n",
    "iT = inputTxGetAll.inputTxGetAllPrediction(x,y)\n",
    "iT.prediction()"
   ]
  },
  {
   "cell_type": "code",
   "execution_count": null,
   "id": "b13e9332",
   "metadata": {},
   "outputs": [],
   "source": [
    "import inputTxGetAll\n",
    "x =1300\n",
    "y = 500\n",
    "iT = inputTxGetAll.inputTxGetAllPrediction(1300,500)\n",
    "iT.prediction()"
   ]
  },
  {
   "cell_type": "code",
   "execution_count": null,
   "id": "0e30bd95",
   "metadata": {},
   "outputs": [],
   "source": [
    "import inputTxGetAll\n",
    "iT = inputTxGetAll.inputTxGetAllPrediction(1200,300)\n",
    "iT.prediction()"
   ]
  },
  {
   "cell_type": "code",
   "execution_count": null,
   "id": "34031f61",
   "metadata": {},
   "outputs": [],
   "source": [
    "import inputTxGetAll\n",
    "iT = inputTxGetAll.inputTxGetAllPrediction(1200,100)\n",
    "iT.prediction()"
   ]
  },
  {
   "cell_type": "code",
   "execution_count": null,
   "id": "ce3924d8",
   "metadata": {},
   "outputs": [],
   "source": [
    "import inputTxGetAll\n",
    "iT = inputTxGetAll.inputTxGetAllPrediction(256,162)\n",
    "iT.prediction()"
   ]
  },
  {
   "cell_type": "code",
   "execution_count": null,
   "id": "e56c0ced",
   "metadata": {},
   "outputs": [],
   "source": [
    "import inputTxGetAll\n",
    "iT = inputTxGetAll.inputTxGetAllPrediction(0,0)\n",
    "iT.prediction()"
   ]
  },
  {
   "cell_type": "code",
   "execution_count": null,
   "id": "b95b3377",
   "metadata": {},
   "outputs": [],
   "source": [
    "import inputTxGetAll\n",
    "\n",
    "x =200\n",
    "y = 500\n",
    "iT = inputTxGetAll.inputTxGetAllPrediction(x,y)\n",
    "iT.prediction()"
   ]
  },
  {
   "cell_type": "code",
   "execution_count": null,
   "id": "b8a09056",
   "metadata": {},
   "outputs": [],
   "source": []
  }
 ],
 "metadata": {
  "kernelspec": {
   "display_name": "Python 3",
   "language": "python",
   "name": "python3"
  },
  "language_info": {
   "codemirror_mode": {
    "name": "ipython",
    "version": 3
   },
   "file_extension": ".py",
   "mimetype": "text/x-python",
   "name": "python",
   "nbconvert_exporter": "python",
   "pygments_lexer": "ipython3",
   "version": "3.7.4"
  }
 },
 "nbformat": 4,
 "nbformat_minor": 5
}
